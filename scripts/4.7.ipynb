{
 "cells": [
  {
   "cell_type": "markdown",
   "id": "3bbe09d3-6794-46c8-9315-32bfb5f9e554",
   "metadata": {},
   "source": [
    "CareerFoundry 4.7: Deriving New Variables\n",
    "\n",
    "This script includes the following points:\n",
    "\n",
    "Part 1. Working on ords_prods_merge df as instructed in the lecture. \n",
    "\n",
    "Part 2. Working on the task. "
   ]
  },
  {
   "cell_type": "markdown",
   "id": "34fa78e2-4142-45fc-9caa-d340ebfa8393",
   "metadata": {},
   "source": [
    "Part 1. Working on ords_prods_merge df as intructed on lecture"
   ]
  },
  {
   "cell_type": "code",
   "execution_count": 4,
   "id": "41956bc7-1c8d-4a85-89fd-824cffdd0ad8",
   "metadata": {},
   "outputs": [],
   "source": [
    "import pandas as pd\n",
    "import os"
   ]
  },
  {
   "cell_type": "code",
   "execution_count": 5,
   "id": "67524789-049f-45c5-bc8b-0d13a4fa770b",
   "metadata": {},
   "outputs": [
    {
     "data": {
      "text/html": [
       "<div>\n",
       "<style scoped>\n",
       "    .dataframe tbody tr th:only-of-type {\n",
       "        vertical-align: middle;\n",
       "    }\n",
       "\n",
       "    .dataframe tbody tr th {\n",
       "        vertical-align: top;\n",
       "    }\n",
       "\n",
       "    .dataframe thead th {\n",
       "        text-align: right;\n",
       "    }\n",
       "</style>\n",
       "<table border=\"1\" class=\"dataframe\">\n",
       "  <thead>\n",
       "    <tr style=\"text-align: right;\">\n",
       "      <th></th>\n",
       "      <th>Unnamed: 0_x</th>\n",
       "      <th>order_id</th>\n",
       "      <th>user_id</th>\n",
       "      <th>order_number</th>\n",
       "      <th>order_day_of_week</th>\n",
       "      <th>order_hour_of_day</th>\n",
       "      <th>days_since_prior_order</th>\n",
       "      <th>product_id</th>\n",
       "      <th>add_to_cart_order</th>\n",
       "      <th>reordered</th>\n",
       "      <th>_merge</th>\n",
       "      <th>Unnamed: 0_y</th>\n",
       "      <th>product_name</th>\n",
       "      <th>aisle_id</th>\n",
       "      <th>department_id</th>\n",
       "      <th>prices</th>\n",
       "    </tr>\n",
       "  </thead>\n",
       "  <tbody>\n",
       "    <tr>\n",
       "      <th>0</th>\n",
       "      <td>0</td>\n",
       "      <td>2539329</td>\n",
       "      <td>1</td>\n",
       "      <td>1</td>\n",
       "      <td>2</td>\n",
       "      <td>8</td>\n",
       "      <td>NaN</td>\n",
       "      <td>196</td>\n",
       "      <td>1</td>\n",
       "      <td>0</td>\n",
       "      <td>both</td>\n",
       "      <td>195</td>\n",
       "      <td>Soda</td>\n",
       "      <td>77</td>\n",
       "      <td>7</td>\n",
       "      <td>9.0</td>\n",
       "    </tr>\n",
       "    <tr>\n",
       "      <th>1</th>\n",
       "      <td>0</td>\n",
       "      <td>2539329</td>\n",
       "      <td>1</td>\n",
       "      <td>1</td>\n",
       "      <td>2</td>\n",
       "      <td>8</td>\n",
       "      <td>NaN</td>\n",
       "      <td>14084</td>\n",
       "      <td>2</td>\n",
       "      <td>0</td>\n",
       "      <td>both</td>\n",
       "      <td>14084</td>\n",
       "      <td>Organic Unsweetened Vanilla Almond Milk</td>\n",
       "      <td>91</td>\n",
       "      <td>16</td>\n",
       "      <td>12.5</td>\n",
       "    </tr>\n",
       "    <tr>\n",
       "      <th>2</th>\n",
       "      <td>0</td>\n",
       "      <td>2539329</td>\n",
       "      <td>1</td>\n",
       "      <td>1</td>\n",
       "      <td>2</td>\n",
       "      <td>8</td>\n",
       "      <td>NaN</td>\n",
       "      <td>12427</td>\n",
       "      <td>3</td>\n",
       "      <td>0</td>\n",
       "      <td>both</td>\n",
       "      <td>12427</td>\n",
       "      <td>Original Beef Jerky</td>\n",
       "      <td>23</td>\n",
       "      <td>19</td>\n",
       "      <td>4.4</td>\n",
       "    </tr>\n",
       "    <tr>\n",
       "      <th>3</th>\n",
       "      <td>0</td>\n",
       "      <td>2539329</td>\n",
       "      <td>1</td>\n",
       "      <td>1</td>\n",
       "      <td>2</td>\n",
       "      <td>8</td>\n",
       "      <td>NaN</td>\n",
       "      <td>26088</td>\n",
       "      <td>4</td>\n",
       "      <td>0</td>\n",
       "      <td>both</td>\n",
       "      <td>26089</td>\n",
       "      <td>Aged White Cheddar Popcorn</td>\n",
       "      <td>23</td>\n",
       "      <td>19</td>\n",
       "      <td>4.7</td>\n",
       "    </tr>\n",
       "    <tr>\n",
       "      <th>4</th>\n",
       "      <td>0</td>\n",
       "      <td>2539329</td>\n",
       "      <td>1</td>\n",
       "      <td>1</td>\n",
       "      <td>2</td>\n",
       "      <td>8</td>\n",
       "      <td>NaN</td>\n",
       "      <td>26405</td>\n",
       "      <td>5</td>\n",
       "      <td>0</td>\n",
       "      <td>both</td>\n",
       "      <td>26406</td>\n",
       "      <td>XL Pick-A-Size Paper Towel Rolls</td>\n",
       "      <td>54</td>\n",
       "      <td>17</td>\n",
       "      <td>1.0</td>\n",
       "    </tr>\n",
       "  </tbody>\n",
       "</table>\n",
       "</div>"
      ],
      "text/plain": [
       "   Unnamed: 0_x  order_id  user_id  order_number  order_day_of_week  \\\n",
       "0             0   2539329        1             1                  2   \n",
       "1             0   2539329        1             1                  2   \n",
       "2             0   2539329        1             1                  2   \n",
       "3             0   2539329        1             1                  2   \n",
       "4             0   2539329        1             1                  2   \n",
       "\n",
       "   order_hour_of_day  days_since_prior_order  product_id  add_to_cart_order  \\\n",
       "0                  8                     NaN         196                  1   \n",
       "1                  8                     NaN       14084                  2   \n",
       "2                  8                     NaN       12427                  3   \n",
       "3                  8                     NaN       26088                  4   \n",
       "4                  8                     NaN       26405                  5   \n",
       "\n",
       "   reordered _merge  Unnamed: 0_y                             product_name  \\\n",
       "0          0   both           195                                     Soda   \n",
       "1          0   both         14084  Organic Unsweetened Vanilla Almond Milk   \n",
       "2          0   both         12427                      Original Beef Jerky   \n",
       "3          0   both         26089               Aged White Cheddar Popcorn   \n",
       "4          0   both         26406         XL Pick-A-Size Paper Towel Rolls   \n",
       "\n",
       "   aisle_id  department_id  prices  \n",
       "0        77              7     9.0  \n",
       "1        91             16    12.5  \n",
       "2        23             19     4.4  \n",
       "3        23             19     4.7  \n",
       "4        54             17     1.0  "
      ]
     },
     "execution_count": 5,
     "metadata": {},
     "output_type": "execute_result"
    }
   ],
   "source": [
    "# imporing ords_prods_merge dataframe\n",
    "\n",
    "# path to the folder \n",
    "path = r'/Users/emilsafarov/Library/CloudStorage/OneDrive-Personal/CF/A4_Python/Instacart Basket Analysis/02 Data'\n",
    "\n",
    "# importing the file output of task 4.6 in pickle format\n",
    "ords_prods_merge = pd.read_pickle(os.path.join(path, 'Prepared data', 'df_ords_prods_merged.pkl'))\n",
    "\n",
    "# creating subset data for the first one million rows\n",
    "df = ords_prods_merge[:1000000]\n",
    "\n",
    "# checking the file\n",
    "df.head(5)"
   ]
  },
  {
   "cell_type": "code",
   "execution_count": 6,
   "id": "06f17fe9-1af8-46d0-ad3a-dc3195daf9fc",
   "metadata": {},
   "outputs": [],
   "source": [
    "# defining funtion for price labeling\n",
    "\n",
    "\n",
    "def price_label(row):\n",
    "   \n",
    "    # If the value within the “prices” column within the given row is less than or equal to 5, then return the string “Low-range product.”\n",
    "    if row['prices']<=5:\n",
    "        return 'Low-range product'\n",
    "   \n",
    "    # if the value within the “prices” column within the given row is greater than 5 and less than or equal to 15, then return the string “Mid-range product.”\n",
    "    elif (row['prices'])>5 and (row['prices']<=15):\n",
    "        return 'Mid-range product'\n",
    "   \n",
    "    # if the value of the “prices” column within the given row is greater than 15, then return the string “High-range product.”\n",
    "    elif row['prices']>5:\n",
    "        return 'High range product'\n",
    "   \n",
    "    # return the string “Not enough data.\n",
    "    else: \n",
    "        return 'Not enough data'\n"
   ]
  },
  {
   "cell_type": "code",
   "execution_count": 7,
   "id": "443e9aa5-ef6a-43c9-980e-159abc34a676",
   "metadata": {},
   "outputs": [
    {
     "name": "stderr",
     "output_type": "stream",
     "text": [
      "/var/folders/tt/mzspvn2d7hb3qsps4c4lqh0c0000gn/T/ipykernel_11523/3670275933.py:2: SettingWithCopyWarning: \n",
      "A value is trying to be set on a copy of a slice from a DataFrame.\n",
      "Try using .loc[row_indexer,col_indexer] = value instead\n",
      "\n",
      "See the caveats in the documentation: https://pandas.pydata.org/pandas-docs/stable/user_guide/indexing.html#returning-a-view-versus-a-copy\n",
      "  df['price_range'] = df.apply(price_label, axis=1)\n"
     ]
    }
   ],
   "source": [
    "# apply price range function. Note to self: Python can technically execute this, but it will suggest the loc() method instead, so no worries\n",
    "df['price_range'] = df.apply(price_label, axis=1)"
   ]
  },
  {
   "cell_type": "code",
   "execution_count": 8,
   "id": "ed0f3c39-6b60-4800-8887-8414627e1756",
   "metadata": {},
   "outputs": [
    {
     "data": {
      "text/plain": [
       "price_range\n",
       "Mid-range product     673183\n",
       "Low-range product     314392\n",
       "High range product     12425\n",
       "Name: count, dtype: int64"
      ]
     },
     "execution_count": 8,
     "metadata": {},
     "output_type": "execute_result"
    }
   ],
   "source": [
    "# analyzing of the distribution of price_range column # note my outputs differ from the outputs on the exsample\n",
    "df['price_range'].value_counts(dropna = False)"
   ]
  },
  {
   "cell_type": "code",
   "execution_count": 9,
   "id": "8a4ba7aa-87b5-4651-a9bd-230a4f09ff87",
   "metadata": {},
   "outputs": [
    {
     "data": {
      "text/plain": [
       "99999.0"
      ]
     },
     "execution_count": 9,
     "metadata": {},
     "output_type": "execute_result"
    }
   ],
   "source": [
    "# finding the most expensive product #in other examples the value is 14.8 \n",
    "df['prices'].max()"
   ]
  },
  {
   "cell_type": "code",
   "execution_count": 10,
   "id": "ad03e7f0-ea12-4f01-94eb-666387ddf88b",
   "metadata": {},
   "outputs": [
    {
     "data": {
      "text/plain": [
       "1.0"
      ]
     },
     "execution_count": 10,
     "metadata": {},
     "output_type": "execute_result"
    }
   ],
   "source": [
    "# finding the least expensive product\n",
    "df['prices'].min()"
   ]
  },
  {
   "cell_type": "code",
   "execution_count": 11,
   "id": "1dd250e6-0d69-434f-af9e-2d21cca95296",
   "metadata": {},
   "outputs": [
    {
     "data": {
      "text/plain": [
       "11.3967944"
      ]
     },
     "execution_count": 11,
     "metadata": {},
     "output_type": "execute_result"
    }
   ],
   "source": [
    "# finding mean number \n",
    "df['prices'].mean()"
   ]
  },
  {
   "cell_type": "code",
   "execution_count": 12,
   "id": "d4051a37-bb79-4b81-acb3-864868255005",
   "metadata": {},
   "outputs": [
    {
     "name": "stderr",
     "output_type": "stream",
     "text": [
      "/var/folders/tt/mzspvn2d7hb3qsps4c4lqh0c0000gn/T/ipykernel_11523/2357092041.py:3: SettingWithCopyWarning: \n",
      "A value is trying to be set on a copy of a slice from a DataFrame.\n",
      "Try using .loc[row_indexer,col_indexer] = value instead\n",
      "\n",
      "See the caveats in the documentation: https://pandas.pydata.org/pandas-docs/stable/user_guide/indexing.html#returning-a-view-versus-a-copy\n",
      "  df.loc[df['prices'] > 15, 'price_range_loc'] = 'High-range product'\n"
     ]
    }
   ],
   "source": [
    "# assigning 'High-range product' to 'price_range_loc' for rows where 'prices' > 15.\n",
    "# question to Hunter: Why am I getting notifications?\n",
    "df.loc[df['prices'] > 15, 'price_range_loc'] = 'High-range product'"
   ]
  },
  {
   "cell_type": "code",
   "execution_count": 13,
   "id": "cb0e3299-d9df-4455-9089-fcbf0038447d",
   "metadata": {},
   "outputs": [],
   "source": [
    "# assigning 'Mid-range product' to 'price_range_loc' for rows where 'prices' are equal or greater than 15 and smaller than 5 \n",
    "df.loc[(df['prices'] <= 15) & (df['prices'] > 5), 'price_range_loc'] = 'Mid-range product' \n"
   ]
  },
  {
   "cell_type": "code",
   "execution_count": 14,
   "id": "e4b7a141-6eba-429e-b00d-ef539a67795d",
   "metadata": {},
   "outputs": [],
   "source": [
    "# assigning 'Low-range product' to 'price_range_loc' for rows where 'prices' is smaller or equal to 5\n",
    "df.loc[df['prices'] <= 5, 'price_range_loc'] = 'Low-range product'"
   ]
  },
  {
   "cell_type": "code",
   "execution_count": 15,
   "id": "cce7c429-fb27-44b8-827d-26cae3dc79fa",
   "metadata": {},
   "outputs": [
    {
     "data": {
      "text/plain": [
       "price_range\n",
       "Mid-range product     673183\n",
       "Low-range product     314392\n",
       "High range product     12425\n",
       "Name: count, dtype: int64"
      ]
     },
     "execution_count": 15,
     "metadata": {},
     "output_type": "execute_result"
    }
   ],
   "source": [
    "# counting the values in newly created 'price_range' column\n",
    "df['price_range'].value_counts(dropna = False)"
   ]
  },
  {
   "cell_type": "code",
   "execution_count": 16,
   "id": "2a65deab-7c62-4551-84c6-9cc98b500aee",
   "metadata": {},
   "outputs": [],
   "source": [
    "# Use loc() method on entire ords_prods_merge dataframe to apply price range function"
   ]
  },
  {
   "cell_type": "code",
   "execution_count": 17,
   "id": "4ece2495-6296-452f-a126-2af238f9f9e2",
   "metadata": {},
   "outputs": [],
   "source": [
    "# for 'High-range product'\n",
    "ords_prods_merge.loc[ords_prods_merge['prices']>15, 'price_range_loc'] = 'High-range product'"
   ]
  },
  {
   "cell_type": "code",
   "execution_count": 18,
   "id": "ffdd9c29-f9c0-4bc2-acf6-8e83aa04aafb",
   "metadata": {},
   "outputs": [],
   "source": [
    "# for 'Mid-range product' \n",
    "ords_prods_merge.loc[(ords_prods_merge['prices']<=15) & (ords_prods_merge['prices']>5),'price_range_loc'] = 'Mid-range product' "
   ]
  },
  {
   "cell_type": "code",
   "execution_count": 19,
   "id": "21860aab-7745-40ba-9958-104a8c54914c",
   "metadata": {},
   "outputs": [],
   "source": [
    "# 'Low-range product'\n",
    "ords_prods_merge.loc[ords_prods_merge['prices'] <= 5, 'price_range_loc'] = 'Low-range product'"
   ]
  },
  {
   "cell_type": "code",
   "execution_count": 20,
   "id": "6135bd70-ce55-4f0a-b25e-9774e9de4d7c",
   "metadata": {},
   "outputs": [
    {
     "data": {
      "text/plain": [
       "price_range_loc\n",
       "Mid-range product     21860860\n",
       "Low-range product     10126321\n",
       "High-range product      417678\n",
       "Name: count, dtype: int64"
      ]
     },
     "execution_count": 20,
     "metadata": {},
     "output_type": "execute_result"
    }
   ],
   "source": [
    "# counting the values in newly created 'price_range_loc' column\n",
    "ords_prods_merge['price_range_loc'].value_counts (dropna = False)"
   ]
  },
  {
   "cell_type": "code",
   "execution_count": 21,
   "id": "35790ede-ed40-4a23-88f2-6676f2ae2391",
   "metadata": {},
   "outputs": [
    {
     "data": {
      "text/plain": [
       "order_day_of_week\n",
       "0    6204182\n",
       "1    5660230\n",
       "6    4496490\n",
       "2    4213830\n",
       "5    4205791\n",
       "3    3840534\n",
       "4    3783802\n",
       "Name: count, dtype: int64"
      ]
     },
     "execution_count": 21,
     "metadata": {},
     "output_type": "execute_result"
    }
   ],
   "source": [
    "# Finding a frequency of orders_day_of_week\n",
    "ords_prods_merge['order_day_of_week'].value_counts(dropna = False)"
   ]
  },
  {
   "cell_type": "code",
   "execution_count": 22,
   "id": "bc258c4e-94d4-4864-816c-540ba02bd29f",
   "metadata": {},
   "outputs": [],
   "source": [
    "# Use for-loop to determine whether orders are on \"busiest day\" (0 = Saturday), \"least busy\" (4 = Wednesday), or \"regularly busy\" (other days of the week).\n",
    "\n",
    "result = []\n",
    "\n",
    "for value in ords_prods_merge[\"order_day_of_week\"]:\n",
    "  if value == 0:\n",
    "    result.append(\"Busiest day\")\n",
    "  elif value == 4:\n",
    "    result.append(\"Least busy\")\n",
    "  else:\n",
    "    result.append(\"Regularly busy\")\n",
    "\n",
    "# in order to display the results code 'result' could be typed, but it will take about 2 min to execute the code"
   ]
  },
  {
   "cell_type": "code",
   "execution_count": 23,
   "id": "dadcf823-1fea-4e71-8bb4-e60b023f022f",
   "metadata": {},
   "outputs": [],
   "source": [
    "# Create new column in ords_prods_merge to view results in context.\n",
    "ords_prods_merge['busiest day'] = result"
   ]
  },
  {
   "cell_type": "code",
   "execution_count": 24,
   "id": "d5c83870-ff69-4a06-a560-65be5c416b70",
   "metadata": {},
   "outputs": [
    {
     "data": {
      "text/plain": [
       "busiest day\n",
       "Regularly busy    22416875\n",
       "Busiest day        6204182\n",
       "Least busy         3783802\n",
       "Name: count, dtype: int64"
      ]
     },
     "execution_count": 24,
     "metadata": {},
     "output_type": "execute_result"
    }
   ],
   "source": [
    "# Counting the values for the busiest day\n",
    "ords_prods_merge['busiest day'].value_counts(dropna = False)"
   ]
  },
  {
   "cell_type": "markdown",
   "id": "76ef8c0e-fc3d-4e2f-b466-3ff926a142b4",
   "metadata": {},
   "source": [
    "Part 2. Working on the task. "
   ]
  },
  {
   "cell_type": "code",
   "execution_count": 26,
   "id": "c94ec8e0-ee51-4a27-890f-392a6460596d",
   "metadata": {},
   "outputs": [
    {
     "data": {
      "text/plain": [
       "order_day_of_week\n",
       "0    6204182\n",
       "1    5660230\n",
       "6    4496490\n",
       "2    4213830\n",
       "5    4205791\n",
       "3    3840534\n",
       "4    3783802\n",
       "Name: count, dtype: int64"
      ]
     },
     "execution_count": 26,
     "metadata": {},
     "output_type": "execute_result"
    }
   ],
   "source": [
    "# Finding a frequency of orders_day_of_week\n",
    "ords_prods_merge['order_day_of_week'].value_counts(dropna = False)"
   ]
  },
  {
   "cell_type": "code",
   "execution_count": 27,
   "id": "a18ed64f-3d1b-42f8-afec-95babfabe0ac",
   "metadata": {},
   "outputs": [],
   "source": [
    "# Update the \"busiest_day\" label to \"busiest_days\" for the two busiest days of the week.\n",
    "# Also, identify and label the two slowest days.\n",
    "\n",
    "result = []\n",
    "\n",
    "for value in ords_prods_merge[\"order_day_of_week\"]:\n",
    "  if value in [0, 1]:\n",
    "    result.append(\"Busiest days\")\n",
    "  elif value in [3, 4]:\n",
    "    result.append(\"Slowest days\")\n",
    "  else:\n",
    "    result.append(\"Regularly busy\")\n",
    "\n",
    "# in order to display the results code 'result' could be typed, but it will take about 2 min to execute the code"
   ]
  },
  {
   "cell_type": "code",
   "execution_count": 28,
   "id": "1c3b119a-360c-43af-b863-ad2ff79f666a",
   "metadata": {},
   "outputs": [
    {
     "data": {
      "text/plain": [
       "frequency of days\n",
       "Regularly busy    12916111\n",
       "Busiest days      11864412\n",
       "Slowest days       7624336\n",
       "Name: count, dtype: int64"
      ]
     },
     "execution_count": 28,
     "metadata": {},
     "output_type": "execute_result"
    }
   ],
   "source": [
    "# Create new column in ords_prods_merge to view results in context.\n",
    "ords_prods_merge['frequency of days'] = result\n",
    "\n",
    "# Counting the values for the busiest day\n",
    "ords_prods_merge['frequency of days'].value_counts(dropna = False)"
   ]
  },
  {
   "cell_type": "code",
   "execution_count": 29,
   "id": "c1054ed7-1a6c-498a-9ce3-97fa649cbe44",
   "metadata": {},
   "outputs": [],
   "source": [
    "# Identify the busiest hours of the day and categorize them into:\n",
    "# \"Most orders\", \"Average orders\", and \"Fewest orders.\"\n",
    "# Create a new column called \"busiest_period_of_day\" to store these labels."
   ]
  },
  {
   "cell_type": "code",
   "execution_count": 30,
   "id": "7fc9282c-8d7e-4b70-9037-b4b070a380eb",
   "metadata": {},
   "outputs": [
    {
     "data": {
      "text/plain": [
       "order_hour_of_day\n",
       "10    2761760\n",
       "11    2736140\n",
       "14    2689136\n",
       "15    2662144\n",
       "13    2660954\n",
       "12    2618532\n",
       "16    2535202\n",
       "9     2454203\n",
       "17    2087654\n",
       "8     1718118\n",
       "18    1636502\n",
       "19    1258305\n",
       "20     976156\n",
       "7      891054\n",
       "21     795637\n",
       "22     634225\n",
       "23     402316\n",
       "6      290493\n",
       "0      218769\n",
       "1      115700\n",
       "5       87961\n",
       "2       69375\n",
       "4       53242\n",
       "3       51281\n",
       "Name: count, dtype: int64"
      ]
     },
     "execution_count": 30,
     "metadata": {},
     "output_type": "execute_result"
    }
   ],
   "source": [
    "# Finding a frequency of hours per day \n",
    "ords_prods_merge['order_hour_of_day'].value_counts(dropna = False)"
   ]
  },
  {
   "cell_type": "code",
   "execution_count": 31,
   "id": "dbe643eb-4de6-4dd9-85a0-11036bba54db",
   "metadata": {},
   "outputs": [
    {
     "name": "stdout",
     "output_type": "stream",
     "text": [
      "busiest_period_of_day\n",
      "Most orders       18663868\n",
      "Average orders    10045836\n",
      "Fewest orders      3695155\n",
      "Name: count, dtype: int64\n"
     ]
    }
   ],
   "source": [
    "def hour_analysis(row):\n",
    "    # Most orders during peak hours (10 AM to 4 PM)\n",
    "    if 10 <= row['order_hour_of_day'] <= 16:\n",
    "        return 'Most orders'\n",
    "    \n",
    "    # Average orders during medium busy hours (7 AM to 9 AM and 5 PM to 7 PM)\n",
    "    elif (7 <= row['order_hour_of_day'] <= 9) or (17 <= row['order_hour_of_day'] <= 19):\n",
    "        return 'Average orders'\n",
    "    \n",
    "    # Fewest orders during early morning and late-night hours\n",
    "    else:\n",
    "        return 'Fewest orders'\n",
    "\n",
    "# Apply the function to create 'busiest_period_of_day' column\n",
    "ords_prods_merge['busiest_period_of_day'] = ords_prods_merge.apply(hour_analysis, axis=1)\n",
    "\n",
    "# Count the frequency of each label\n",
    "print(ords_prods_merge['busiest_period_of_day'].value_counts(dropna=False))"
   ]
  },
  {
   "cell_type": "code",
   "execution_count": 32,
   "id": "aff3684d-b789-4c46-a8f1-957dcb65ab6e",
   "metadata": {},
   "outputs": [],
   "source": [
    "# Export the updated DataFrame as a pickle file and save it in the \"Prepared Data\" folder.\n",
    "ords_prods_merge.to_pickle(os.path.join(path, 'Prepared data', 'ords_prods_merge_output_4_7.pkl'))"
   ]
  }
 ],
 "metadata": {
  "kernelspec": {
   "display_name": "Python 3 (ipykernel)",
   "language": "python",
   "name": "python3"
  },
  "language_info": {
   "codemirror_mode": {
    "name": "ipython",
    "version": 3
   },
   "file_extension": ".py",
   "mimetype": "text/x-python",
   "name": "python",
   "nbconvert_exporter": "python",
   "pygments_lexer": "ipython3",
   "version": "3.12.4"
  }
 },
 "nbformat": 4,
 "nbformat_minor": 5
}
