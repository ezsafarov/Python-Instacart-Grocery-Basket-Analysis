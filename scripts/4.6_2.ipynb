{
 "cells": [
  {
   "cell_type": "markdown",
   "id": "4288c9db-4a6e-42fc-bd42-d90d5ad52627",
   "metadata": {},
   "source": [
    "Step 3"
   ]
  },
  {
   "cell_type": "code",
   "execution_count": 2,
   "id": "1474a49f-a4ff-4373-9a04-01227a9b09eb",
   "metadata": {},
   "outputs": [],
   "source": [
    "# importing libraries\n",
    "import pandas as pd\n",
    "import numpy as np\n",
    "import os"
   ]
  },
  {
   "cell_type": "code",
   "execution_count": 3,
   "id": "4efbc3c8-0dff-40e0-a3c6-4bbbf68ed41e",
   "metadata": {},
   "outputs": [],
   "source": [
    "# importing files\n",
    "\n",
    "# Setting up the folder path \n",
    "path = r'/Users/emilsafarov/Library/CloudStorage/OneDrive-Personal/CF/A4_Python/Instacart Basket Analysis/02 Data'\n",
    "\n",
    "# importing orders_products_combined pickled file\n",
    "df_orders_products_prior = pd.read_pickle(os.path.join(path, 'Prepared data', 'orders_products_combined.pkl')) # I tried to drop index column, but were not able to do that\n",
    "\n",
    "# importing product data set\n",
    "df_products=pd.read_csv(os.path.join(path,'Prepared data', 'products_output_4_5.csv'))\n"
   ]
  },
  {
   "cell_type": "code",
   "execution_count": 4,
   "id": "cf13a313-ed09-44f6-9228-31e321f7ae62",
   "metadata": {},
   "outputs": [
    {
     "data": {
      "text/html": [
       "<div>\n",
       "<style scoped>\n",
       "    .dataframe tbody tr th:only-of-type {\n",
       "        vertical-align: middle;\n",
       "    }\n",
       "\n",
       "    .dataframe tbody tr th {\n",
       "        vertical-align: top;\n",
       "    }\n",
       "\n",
       "    .dataframe thead th {\n",
       "        text-align: right;\n",
       "    }\n",
       "</style>\n",
       "<table border=\"1\" class=\"dataframe\">\n",
       "  <thead>\n",
       "    <tr style=\"text-align: right;\">\n",
       "      <th></th>\n",
       "      <th>Unnamed: 0</th>\n",
       "      <th>order_id</th>\n",
       "      <th>user_id</th>\n",
       "      <th>order_number</th>\n",
       "      <th>order_day_of_week</th>\n",
       "      <th>order_hour_of_day</th>\n",
       "      <th>days_since_prior_order</th>\n",
       "      <th>product_id</th>\n",
       "      <th>add_to_cart_order</th>\n",
       "      <th>reordered</th>\n",
       "      <th>_merge</th>\n",
       "    </tr>\n",
       "  </thead>\n",
       "  <tbody>\n",
       "    <tr>\n",
       "      <th>0</th>\n",
       "      <td>0</td>\n",
       "      <td>2539329</td>\n",
       "      <td>1</td>\n",
       "      <td>1</td>\n",
       "      <td>2</td>\n",
       "      <td>8</td>\n",
       "      <td>NaN</td>\n",
       "      <td>196</td>\n",
       "      <td>1</td>\n",
       "      <td>0</td>\n",
       "      <td>both</td>\n",
       "    </tr>\n",
       "    <tr>\n",
       "      <th>1</th>\n",
       "      <td>0</td>\n",
       "      <td>2539329</td>\n",
       "      <td>1</td>\n",
       "      <td>1</td>\n",
       "      <td>2</td>\n",
       "      <td>8</td>\n",
       "      <td>NaN</td>\n",
       "      <td>14084</td>\n",
       "      <td>2</td>\n",
       "      <td>0</td>\n",
       "      <td>both</td>\n",
       "    </tr>\n",
       "    <tr>\n",
       "      <th>2</th>\n",
       "      <td>0</td>\n",
       "      <td>2539329</td>\n",
       "      <td>1</td>\n",
       "      <td>1</td>\n",
       "      <td>2</td>\n",
       "      <td>8</td>\n",
       "      <td>NaN</td>\n",
       "      <td>12427</td>\n",
       "      <td>3</td>\n",
       "      <td>0</td>\n",
       "      <td>both</td>\n",
       "    </tr>\n",
       "    <tr>\n",
       "      <th>3</th>\n",
       "      <td>0</td>\n",
       "      <td>2539329</td>\n",
       "      <td>1</td>\n",
       "      <td>1</td>\n",
       "      <td>2</td>\n",
       "      <td>8</td>\n",
       "      <td>NaN</td>\n",
       "      <td>26088</td>\n",
       "      <td>4</td>\n",
       "      <td>0</td>\n",
       "      <td>both</td>\n",
       "    </tr>\n",
       "    <tr>\n",
       "      <th>4</th>\n",
       "      <td>0</td>\n",
       "      <td>2539329</td>\n",
       "      <td>1</td>\n",
       "      <td>1</td>\n",
       "      <td>2</td>\n",
       "      <td>8</td>\n",
       "      <td>NaN</td>\n",
       "      <td>26405</td>\n",
       "      <td>5</td>\n",
       "      <td>0</td>\n",
       "      <td>both</td>\n",
       "    </tr>\n",
       "  </tbody>\n",
       "</table>\n",
       "</div>"
      ],
      "text/plain": [
       "   Unnamed: 0  order_id  user_id  order_number  order_day_of_week  \\\n",
       "0           0   2539329        1             1                  2   \n",
       "1           0   2539329        1             1                  2   \n",
       "2           0   2539329        1             1                  2   \n",
       "3           0   2539329        1             1                  2   \n",
       "4           0   2539329        1             1                  2   \n",
       "\n",
       "   order_hour_of_day  days_since_prior_order  product_id  add_to_cart_order  \\\n",
       "0                  8                     NaN         196                  1   \n",
       "1                  8                     NaN       14084                  2   \n",
       "2                  8                     NaN       12427                  3   \n",
       "3                  8                     NaN       26088                  4   \n",
       "4                  8                     NaN       26405                  5   \n",
       "\n",
       "   reordered _merge  \n",
       "0          0   both  \n",
       "1          0   both  \n",
       "2          0   both  \n",
       "3          0   both  \n",
       "4          0   both  "
      ]
     },
     "execution_count": 4,
     "metadata": {},
     "output_type": "execute_result"
    }
   ],
   "source": [
    "# displaying the file \n",
    "df_orders_products_prior.head()"
   ]
  },
  {
   "cell_type": "code",
   "execution_count": 5,
   "id": "0f9317b7-85d3-4546-aed5-64421d6e56f6",
   "metadata": {},
   "outputs": [
    {
     "data": {
      "text/plain": [
       "(32434489, 11)"
      ]
     },
     "execution_count": 5,
     "metadata": {},
     "output_type": "execute_result"
    }
   ],
   "source": [
    "# checking the shape and comparing with previously exported file - all set\n",
    "df_orders_products_prior.shape"
   ]
  },
  {
   "cell_type": "code",
   "execution_count": 6,
   "id": "b4b675a6-dcea-437b-a55e-40059bde0ceb",
   "metadata": {},
   "outputs": [
    {
     "data": {
      "text/plain": [
       "(49672, 6)"
      ]
     },
     "execution_count": 6,
     "metadata": {},
     "output_type": "execute_result"
    }
   ],
   "source": [
    "df_products.shape #checking the imported data"
   ]
  },
  {
   "cell_type": "code",
   "execution_count": 7,
   "id": "564ef988-623c-4e09-bb9d-c9bca2dedf1b",
   "metadata": {},
   "outputs": [
    {
     "data": {
      "text/plain": [
       "0           both\n",
       "1           both\n",
       "2           both\n",
       "3           both\n",
       "4           both\n",
       "            ... \n",
       "32404854    both\n",
       "32404855    both\n",
       "32404856    both\n",
       "32404857    both\n",
       "32404858    both\n",
       "Name: _merge, Length: 32404859, dtype: category\n",
       "Categories (3, object): ['left_only', 'right_only', 'both']"
      ]
     },
     "execution_count": 7,
     "metadata": {},
     "output_type": "execute_result"
    }
   ],
   "source": [
    "# merging based on product_id parameter and naming data frame as df_ords_prods_merge\n",
    "df_ords_prods_merged = df_orders_products_prior.merge(df_products, on='product_id')\n",
    "\n",
    "# Confirming the results using the merge flag\n",
    "df_ords_prods_merged['_merge']"
   ]
  },
  {
   "cell_type": "code",
   "execution_count": 8,
   "id": "737420fb-c96c-4aa8-88a2-141d49e4ad8d",
   "metadata": {},
   "outputs": [
    {
     "data": {
      "text/plain": [
       "_merge\n",
       "both          32404859\n",
       "left_only            0\n",
       "right_only           0\n",
       "Name: count, dtype: int64"
      ]
     },
     "execution_count": 8,
     "metadata": {},
     "output_type": "execute_result"
    }
   ],
   "source": [
    "df_ords_prods_merged['_merge'].value_counts() # looking for the count of values"
   ]
  },
  {
   "cell_type": "code",
   "execution_count": 9,
   "id": "e98012c3-2396-4659-bef2-452c4894345f",
   "metadata": {},
   "outputs": [],
   "source": [
    "# exporting merged data set in pickle format\n",
    "df_ords_prods_merged.to_pickle(os.path.join(path, 'Prepared data', 'df_ords_prods_merged.pkl')) "
   ]
  }
 ],
 "metadata": {
  "kernelspec": {
   "display_name": "Python 3 (ipykernel)",
   "language": "python",
   "name": "python3"
  },
  "language_info": {
   "codemirror_mode": {
    "name": "ipython",
    "version": 3
   },
   "file_extension": ".py",
   "mimetype": "text/x-python",
   "name": "python",
   "nbconvert_exporter": "python",
   "pygments_lexer": "ipython3",
   "version": "3.12.4"
  }
 },
 "nbformat": 4,
 "nbformat_minor": 5
}
